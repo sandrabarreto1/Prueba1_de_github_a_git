{
 "cells": [
  {
   "cell_type": "markdown",
   "metadata": {},
   "source": [
    "# An animal classification task\n",
    "\n",
    "**Learning goal:** This case will introduce conditional logic (i.e., statements of the form \"if something, then something\") and how to implement it in Python.\n",
    "\n",
    "One of your friends, who studies biology at college, is writing an essay and needs to classify a large number of animals into three categories depending on some characteristics. She has been trying to carry out the classification using a popular spreadsheet package, but last night she accidentally deleted half of her formulas and now her file is unusable. To make things worse, she didn't keep any backups. You found out about this and offered to help her out.\n",
    "\n",
    "This is the decision tree she is using (a decision tree is just a [flow chart](https://en.wikipedia.org/wiki/Flowchart) that represents decision rules):\n",
    "\n",
    "![Decision tree - animals](data/images/animals_decision_tree.png)\n",
    "\n",
    "Let's break down this diagram:\n",
    "\n",
    "1. **Does this animal fly?** If this animal does fly, move on to the next stage. If this animal does not fly, then don't assign it to any category.\n",
    "2. **Is this animal warm-blooded?** Now we only have animals that fly. If this animal is warm-blooded, move on to the next stage. If it isn't, classify it as an insect.\n",
    "3. **Does this animal feed on blood?** Now we only have animals that fly *and* are warm-blooded. If this animal feeds on blood, then classify it as a bat. If it doesn't, classify it as a bird (we know that there are bats that don't feed on blood, but let's just asume that there aren't any of those in your friend's sample).\n",
    "\n",
    "In other words,\n",
    "\n",
    "* If an animal flies, is warm-blooded, and feeds on blood, it is a bat.ddddddd\n",
    "* If an animal flies, is warm-blooded, and doesn't feed on blood, it is a bird.\n",
    "* If an animal flies and is not warm-blooded, it is an insect.\n",
    "* If an animal doesn't fly, it should not be assigned to any category - we're only interested in animals that fly.\n",
    "\n",
    "Now execute the following cell:"
   ]
  },
  {
   "cell_type": "code",
   "execution_count": null,
   "metadata": {},
   "outputs": [],
   "source": [
    "animal = {\n",
    "    \"flies\":True,\n",
    "    \"warm_blooded\":True,\n",
    "    \"feeds_blood\":True\n",
    "}"
   ]
  },
  {
   "cell_type": "markdown",
   "metadata": {},
   "source": [
    "## Exercise 1\n",
    "\n",
    "Which class should this animal be assigned to?"
   ]
  },
  {
   "cell_type": "markdown",
   "metadata": {
    "tags": [
     "ans_st"
    ]
   },
   "source": [
    "**Answer**. This animal flies, is warm-blooded, and feeds on blood, so it definitely is a bat."
   ]
  },
  {
   "cell_type": "markdown",
   "metadata": {},
   "source": [
    "Let's now write some code to do the classification for us. For this, we use an **`if` statement**. The syntax is as follows:\n",
    "\n",
    "~~~python\n",
    "if some_expression_is_true:\n",
    "    do_something\n",
    "~~~\n",
    "\n",
    "It is *very* important that you start the line that comes after a colon (`:`) with a tab. As you have seen in previous cases, tabs tell Python how to group statements hierarchically. In this case, the tabbed lines after `if some_expression_is_true:` are the lines that should be executed if the condition is met.\n",
    "\n",
    "You probably know already that the value of a key in a dictionary is accessed with this syntax:\n",
    "\n",
    "~~~python\n",
    "my_dictionary[\"my_key\"]\n",
    "~~~\n",
    "\n",
    "So, if we want to find out if `animal` flies, we need to use this code:\n",
    "\n",
    "~~~python\n",
    "animal[\"flies\"]\n",
    "~~~"
   ]
  },
  {
   "cell_type": "markdown",
   "metadata": {},
   "source": [
    "## Exercise 2\n",
    "\n",
    "Run `animal[\"flies\"]` in a code cell and verify that the returned value is `True`."
   ]
  },
  {
   "cell_type": "markdown",
   "metadata": {
    "tags": [
     "ans_st"
    ]
   },
   "source": [
    "**Answer.**"
   ]
  },
  {
   "cell_type": "code",
   "execution_count": null,
   "metadata": {
    "tags": [
     "ans_cell"
    ]
   },
   "outputs": [],
   "source": [
    "animal[\"flies\"]"
   ]
  },
  {
   "cell_type": "markdown",
   "metadata": {},
   "source": [
    "To code the first stage of our decision tree, we need to evaluate the \"Does this animal fly?\" expression and then move on to the next stage. Something like this:\n",
    "\n",
    "~~~python\n",
    "if animal[\"flies\"] == True:\n",
    "    #move to the next stage\n",
    "~~~\n",
    "\n",
    "Notice that we used `==` and not `=` here. This is because `=` is used to *assign* a value to a variable, like in `four = 1 + 3`, while `==` is used to *evaluate* whether two objects have the same value or not, like in `4 == 4` (which should produce the output `True`).\n",
    "\n",
    "Since we haven't written the code for the next stages yet, let's just simply print a string with the action that should be followed if the condition is met. Execute the cell below. The printed output should be `Move to the next stage, because this animal flies`:"
   ]
  },
  {
   "cell_type": "code",
   "execution_count": null,
   "metadata": {},
   "outputs": [],
   "source": [
    "if animal[\"flies\"] == True:\n",
    "    print(\"Move to the next stage, because this animal flies\")"
   ]
  },
  {
   "cell_type": "markdown",
   "metadata": {},
   "source": [
    "In order to tell Python what to do when the expression is not true (that is, in the case that the animal doesn't fly) we use the **`else`** keyword:"
   ]
  },
  {
   "cell_type": "code",
   "execution_count": null,
   "metadata": {},
   "outputs": [],
   "source": [
    "if animal[\"flies\"] == True:\n",
    "    print(\"Move to the next stage, because this animal flies\")\n",
    "else:\n",
    "    print(\"Do not assign to any category\")"
   ]
  },
  {
   "cell_type": "markdown",
   "metadata": {},
   "source": [
    "Now that we know how to code a conditional statement, let's add the other stages of the decision tree. The second stage is this:"
   ]
  },
  {
   "cell_type": "code",
   "execution_count": null,
   "metadata": {},
   "outputs": [],
   "source": [
    "if animal[\"warm_blooded\"] == True:\n",
    "    print(\"Move to the next stage, because this animal is warm-blooded\")\n",
    "else:\n",
    "    print(\"The animal is an insect\")"
   ]
  },
  {
   "cell_type": "markdown",
   "metadata": {},
   "source": [
    "If we now put both conditional statements together, we get:"
   ]
  },
  {
   "cell_type": "code",
   "execution_count": null,
   "metadata": {},
   "outputs": [],
   "source": [
    "# The first conditional\n",
    "if animal[\"flies\"] == True:\n",
    "    # The second conditional\n",
    "    if animal[\"warm_blooded\"] == True:\n",
    "        print(\"Move to the next stage, because this animal flies and is warm-blooded\")\n",
    "    else:\n",
    "        print(\"The animal is an insect\")\n",
    "else:\n",
    "    print(\"Do not assign to any class, because this animal doesn't fly\")"
   ]
  },
  {
   "cell_type": "markdown",
   "metadata": {},
   "source": [
    "Can you see that we indented the `warm_blooded` conditional? That is because this conditional is *nested* inside the first one (similar to how we did nested indexing in previous cases)."
   ]
  },
  {
   "cell_type": "markdown",
   "metadata": {},
   "source": [
    "### Exercise 3\n",
    "\n",
    "Write the third conditional."
   ]
  },
  {
   "cell_type": "markdown",
   "metadata": {
    "tags": [
     "ans_st"
    ]
   },
   "source": [
    "**Answer.**"
   ]
  },
  {
   "cell_type": "code",
   "execution_count": null,
   "metadata": {
    "tags": [
     "ans_cell"
    ]
   },
   "outputs": [],
   "source": [
    "if animal[\"feeds_blood\"] == True:\n",
    "    print(\"The animal is a bat\")\n",
    "else:\n",
    "    print(\"The animal is a bird\")"
   ]
  },
  {
   "cell_type": "markdown",
   "metadata": {},
   "source": [
    "### Exercise 4\n",
    "\n",
    "Integrate the third conditional into the code so that you have one code block that has all three conditionals. (Since it must be nested inside the second conditional, it should be doubly indented.)"
   ]
  },
  {
   "cell_type": "markdown",
   "metadata": {
    "tags": [
     "ans_st"
    ]
   },
   "source": [
    "**Answer.**"
   ]
  },
  {
   "cell_type": "code",
   "execution_count": null,
   "metadata": {
    "tags": [
     "ans_cell"
    ]
   },
   "outputs": [],
   "source": [
    "# The first conditional\n",
    "if animal[\"flies\"] == True:\n",
    "    # The second conditional\n",
    "    if animal[\"warm_blooded\"] == True:\n",
    "        # The third conditional\n",
    "        if animal[\"feeds_blood\"] == True:\n",
    "            print(\"The animal is a bat\")\n",
    "        else:\n",
    "            print(\"The animal is a bird\")\n",
    "    else:\n",
    "        print(\"The animal is an insect\")\n",
    "else:\n",
    "    print(\"Do not assign to any class, because this animal doesn't fly\")"
   ]
  },
  {
   "cell_type": "markdown",
   "metadata": {},
   "source": [
    "It seems we have successfully classified our animal as a bat. Let's test this code again, this time passing an insect. For this, we overwrite the `animal` variable with another dictionary that has the values that correspond to an insect:"
   ]
  },
  {
   "cell_type": "code",
   "execution_count": null,
   "metadata": {},
   "outputs": [],
   "source": [
    "animal = {\n",
    "    \"flies\":True,\n",
    "    \"warm_blooded\":False,\n",
    "    \"feeds_blood\":True\n",
    "}"
   ]
  },
  {
   "cell_type": "markdown",
   "metadata": {},
   "source": [
    "### Exercise 5\n",
    "\n",
    "Run the code again. Was the animal classified correctly?"
   ]
  },
  {
   "cell_type": "markdown",
   "metadata": {
    "tags": [
     "ans_st"
    ]
   },
   "source": [
    "**Answer**."
   ]
  },
  {
   "cell_type": "code",
   "execution_count": null,
   "metadata": {
    "tags": [
     "ans_cell"
    ]
   },
   "outputs": [],
   "source": [
    "# The first conditional\n",
    "if animal[\"flies\"] == True:\n",
    "    # The second conditional\n",
    "    if animal[\"warm_blooded\"] == True:\n",
    "        # The third conditional\n",
    "        if animal[\"feeds_blood\"] == True:\n",
    "            print(\"The animal is a bat\")\n",
    "        else:\n",
    "            print(\"The animal is a bird\")\n",
    "    else:\n",
    "        print(\"The animal is an insect\")\n",
    "else:\n",
    "    print(\"Do not assign to any class, because this animal doesn't fly\")"
   ]
  },
  {
   "cell_type": "markdown",
   "metadata": {},
   "source": [
    "If everything ran correctly, the animal will have been classified as an insect. Notice that in the case of insects, the value of `feeds_blood` isn't relevant in our decision tree - what makes a flying animal an insect isn't whether or not it feeds on blood, but rather that it is not warm-blooded."
   ]
  },
  {
   "cell_type": "markdown",
   "metadata": {},
   "source": [
    "## Using `if...elif`\n",
    "\n",
    "Your friend is so impressed by your Python prowess that she asks you to help her out with another dataset. This is the decision tree:\n",
    "\n",
    "![](data/images/animals_elif.png)\n",
    "\n",
    "Let's create a dummy animal:"
   ]
  },
  {
   "cell_type": "code",
   "execution_count": null,
   "metadata": {},
   "outputs": [],
   "source": [
    "animal = {\n",
    "    \"height\":5\n",
    "}"
   ]
  },
  {
   "cell_type": "markdown",
   "metadata": {},
   "source": [
    "Since this animal's height is 5 feet, it should be classified as a `LARGE` animal according to the decision tree:\n",
    "\n",
    "1. This animal's height is *not* less than 1 foot, so it needs to pass through the next stage before being assigned a class.\n",
    "2. This animal's height is *not* less than 2 feet, which means that the condition evaluates to `False` (that is, to \"NO\"). Therefore, this animal is `LARGE`.\n",
    "\n",
    "You could easily code the first condition as:"
   ]
  },
  {
   "cell_type": "code",
   "execution_count": null,
   "metadata": {},
   "outputs": [],
   "source": [
    "# First condition\n",
    "if animal[\"height\"] < 1: # Is it less than 1 ft?\n",
    "    print(\"SMALL\")\n",
    "else:\n",
    "    print(\"Move on to the next stage, this animal is NOT SMALL\")"
   ]
  },
  {
   "cell_type": "markdown",
   "metadata": {},
   "source": [
    "### Exercise 6\n",
    "\n",
    "Add the second condition."
   ]
  },
  {
   "cell_type": "markdown",
   "metadata": {
    "tags": [
     "ans_st"
    ]
   },
   "source": [
    "**Answer.**"
   ]
  },
  {
   "cell_type": "code",
   "execution_count": null,
   "metadata": {
    "tags": [
     "ans_cell"
    ]
   },
   "outputs": [],
   "source": [
    "# First condition\n",
    "if animal[\"height\"] < 1:\n",
    "    print(\"SMALL\")\n",
    "else:\n",
    "    # Second condition\n",
    "    if animal[\"height\"] < 2: # If it is larger than 1 ft, is it smaller than 2 ft?\n",
    "        print(\"MEDIUM\")\n",
    "    else:\n",
    "        print(\"LARGE\")"
   ]
  },
  {
   "cell_type": "markdown",
   "metadata": {},
   "source": [
    "This works perfectly. However, if you'd like to make the code a bit more readable, you could replace the `else...if` with a handy shortcut, **`elif`**. As the name suggests, `elif`s can be used when you have an `if` immediately following an `else`. So, the simplified version would be:"
   ]
  },
  {
   "cell_type": "code",
   "execution_count": null,
   "metadata": {},
   "outputs": [],
   "source": [
    "if animal[\"height\"] < 1: # First condition\n",
    "    print(\"SMALL\")\n",
    "elif animal[\"height\"] < 2: # Second condition\n",
    "    print(\"MEDIUM\")\n",
    "else:\n",
    "    print(\"LARGE\")"
   ]
  },
  {
   "cell_type": "markdown",
   "metadata": {},
   "source": [
    "This block has two fewer lines of code. You can follow the logic with this reasoning:\n",
    "\n",
    "1. If the animal's height is less than 1 foot, then it is `SMALL`.\n",
    "2. If the animal is not `SMALL`, then check if it is less than 2 feet. If it is, then label as `MEDIUM`.\n",
    "3. If the animal's height is something else (that is, it isn't either `SMALL` or `MEDIUM`), then it has to be `LARGE`."
   ]
  },
  {
   "cell_type": "markdown",
   "metadata": {},
   "source": [
    "Now the only thing that you need to do is take your conditionals and run them on each animal in your friend's datasets. You could do this one animal at a time, but that would kind of defeat the purpose - it could be as cumbersome as using a spreadsheet, or even worse. For cases like this, you use Python **functions** and/or **loops**, which are extremely efficient ways to streamline repetitive tasks. You'll learn about these in a future case."
   ]
  },
  {
   "cell_type": "markdown",
   "metadata": {},
   "source": [
    "## A word on Boolean logic\n",
    "\n",
    "So far our conditionals have evaluated a single condition to determine which lines of code actually get executed when we run it. Python can also evaluate multiple conditions at once, using what we call **[Boolean logic](https://www.pbs.org/video/boolean-logic-logic-gates-crash-course-computer-science-nobmpt/)**.\n",
    "\n",
    "There are four Boolean operations that will suffice in the vast majority of cases:\n",
    "\n",
    "* $AND$, which in Python is `and`,\n",
    "* $OR$, which in Python is `or`,\n",
    "* $XOR$ or **exclusive or**, which in Python is `^`, and\n",
    "* $NOT$, which in Python is `not`.\n",
    "\n",
    "This is related to the sets operations that we covered in Case 0.3. In fact, you can represent Boolean logic [using sets](https://en.wikipedia.org/wiki/Boolean_algebra#Diagrammatic_representations).\n",
    "\n",
    "### $AND$\n",
    "\n",
    "You have two boolean variables `A` and `B`. This is the **truth table** related to the $AND$ operation when applied to them (a truth table is just a matrix that shows the output of a Boolean operation for different values of `A` and `B`):\n",
    "\n",
    "| Value of `A`\t| Value of `B`  | Value of `A and B`|\n",
    "|------------\t|------------\t|------------------\t|\n",
    "| False      \t| False      \t| False            \t|\n",
    "| False      \t| True       \t| False            \t|\n",
    "| True       \t| False      \t| False            \t|\n",
    "| True       \t| True       \t| True             \t|\n",
    "\n",
    "In other words, `A and B` is `True` only when both conditions are `True`.\n",
    "\n",
    "### $OR$\n",
    "\n",
    "This is the truth table for the $OR$ operation:\n",
    "\n",
    "| Value of `A`\t| Value of `B`  | Value of `A or B` |\n",
    "|------------\t|------------\t|------------------\t|\n",
    "| False      \t| False      \t| False            \t|\n",
    "| False      \t| True       \t| True            \t|\n",
    "| True       \t| False      \t| True            \t|\n",
    "| True       \t| True       \t| True             \t|\n",
    "\n",
    "In other words, `A or B` is always `True` except when both conditions are `False`.\n",
    "\n",
    "### $XOR$\n",
    "\n",
    "This is the truth table for the exclusive or operation:\n",
    "\n",
    "| Value of `A`\t| Value of `B`  | Value of `A ^ B`  |\n",
    "|------------\t|------------\t|------------------\t|\n",
    "| False      \t| False      \t| False            \t|\n",
    "| False      \t| True       \t| True            \t|\n",
    "| True       \t| False      \t| True            \t|\n",
    "| True       \t| True       \t| False            \t|\n",
    "\n",
    "In other words, `A ^ B` is `True` only when both conditions have different truth values.\n",
    "\n",
    "### $NOT$\n",
    "\n",
    "Negation is the easiest of the operators. It just reverses the value of your boolean. So, if `A` is `True`, then `not A` will be `False`. It takes only one argument, so you can't do `A not B` (but you *can* do `not (A and B)`, for instance).\n",
    "\n",
    "---\n",
    "\n",
    "Now let's look at an example. Let's evaluate an $OR$ operation:"
   ]
  },
  {
   "cell_type": "code",
   "execution_count": null,
   "metadata": {},
   "outputs": [],
   "source": [
    "if (4 < 5) or (400 < 3): \n",
    "    print(\"The conditional evaluated to True\")\n",
    "else:\n",
    "    print(\"The conditional evaluated to False\")"
   ]
  },
  {
   "cell_type": "markdown",
   "metadata": {},
   "source": [
    "Notice that we used parentheses to tell Python where the conditions were in the code.\n",
    "\n",
    "**Question:** Why did this code evaluate to `True`?\n",
    "\n",
    "And here's an example of an $AND$ operation:"
   ]
  },
  {
   "cell_type": "code",
   "execution_count": null,
   "metadata": {},
   "outputs": [],
   "source": [
    "if (4 < 5) and (400 < 3): \n",
    "    print(\"The conditional evaluated to True\")\n",
    "else:\n",
    "    print(\"The conditional evaluated to False\")"
   ]
  },
  {
   "cell_type": "markdown",
   "metadata": {},
   "source": [
    "**Question:** Now why did it evaluate to `False`?"
   ]
  }
 ],
 "metadata": {
  "c1_recart": "7.20.0-57c20131aabc1dc2a8c675852d80a7da",
  "kernelspec": {
   "display_name": "Python 3",
   "language": "python",
   "name": "python3"
  },
  "language_info": {
   "codemirror_mode": {
    "name": "ipython",
    "version": 3
   },
   "file_extension": ".py",
   "mimetype": "text/x-python",
   "name": "python",
   "nbconvert_exporter": "python",
   "pygments_lexer": "ipython3",
   "version": "3.8.8"
  }
 },
 "nbformat": 4,
 "nbformat_minor": 2
}
